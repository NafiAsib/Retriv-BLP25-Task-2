{
 "cells": [
  {
   "cell_type": "code",
   "execution_count": null,
   "id": "dd19fd92",
   "metadata": {},
   "outputs": [],
   "source": [
    "import pickle\n",
    "import json\n",
    "\n",
    "def clean_surrogates_robust(text):\n",
    "    if not isinstance(text, str):\n",
    "        return text\n",
    "    try:\n",
    "        return text.encode('utf-8', errors='surrogateescape').decode('utf-8', errors='replace')\n",
    "    except Exception:\n",
    "        return str(text).encode('utf-8', errors='replace').decode('utf-8', errors='replace')\n",
    "\n",
    "# Load the raw responses (no encoding issues!)\n",
    "with open(\"raw_responses_backup.pkl\", \"rb\") as f:\n",
    "    responses = pickle.load(f)\n",
    "\n",
    "print(f\"Loaded {len(responses)} responses.\")\n",
    "\n",
    "# Clean ALL responses\n",
    "responses_cleaned = [clean_surrogates_robust(r) for r in responses]\n",
    "\n",
    "# Verify no surrogates remain\n",
    "bad_count = sum(1 for r in responses_cleaned \n",
    "                if isinstance(r, str) and any(0xdc00 <= ord(c) <= 0xdfff for c in r))\n",
    "print(f\"Remaining bad surrogates: {bad_count}\")\n",
    "\n",
    "\n",
    "import pandas as pd\n",
    "test_df = pd.read_json(\"test_df.json\")  # <-- Make sure this exists!\n",
    "\n",
    "submission_data = []\n",
    "for i, (_, row) in enumerate(test_df.iterrows()):\n",
    "    submission_data.append({\n",
    "        \"id\": int(row['id']),\n",
    "        \"response\": responses_cleaned[i]\n",
    "    })\n",
    "\n",
    "submission_file = \"submission.json\"\n",
    "with open(submission_file, 'w', encoding='utf-8') as f:\n",
    "    json.dump(submission_data, f, ensure_ascii=False, indent=2)\n",
    "\n",
    "print(f\"Successfully saved {len(submission_data)} submissions to {submission_file}\")"
   ]
  }
 ],
 "metadata": {
  "kernelspec": {
   "display_name": ".venv",
   "language": "python",
   "name": "python3"
  },
  "language_info": {
   "codemirror_mode": {
    "name": "ipython",
    "version": 3
   },
   "file_extension": ".py",
   "mimetype": "text/x-python",
   "name": "python",
   "nbconvert_exporter": "python",
   "pygments_lexer": "ipython3",
   "version": "3.12.11"
  }
 },
 "nbformat": 4,
 "nbformat_minor": 5
}
