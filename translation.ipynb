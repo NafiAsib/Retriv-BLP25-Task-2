{
 "cells": [
  {
   "cell_type": "markdown",
   "id": "84fbe1d5",
   "metadata": {},
   "source": [
    "## Setup and Model Loading"
   ]
  },
  {
   "cell_type": "code",
   "execution_count": null,
   "id": "acf24e65",
   "metadata": {},
   "outputs": [],
   "source": [
    "# Import required libraries\n",
    "from transformers import pipeline\n",
    "import torch\n",
    "import pandas as pd\n",
    "from tqdm.auto import tqdm\n",
    "import json\n",
    "import re\n",
    "import os\n",
    "import gc\n",
    "import ast\n",
    "from collections import defaultdict\n",
    "import random\n",
    "from typing import List, Dict, Tuple, Optional"
   ]
  },
  {
   "cell_type": "code",
   "execution_count": null,
   "id": "1042c305",
   "metadata": {},
   "outputs": [],
   "source": [
    "def clear_memory():\n",
    "    gc.collect()\n",
    "    if torch.cuda.is_available():\n",
    "        torch.cuda.empty_cache()\n",
    "\n",
    "clear_memory()\n",
    "\n",
    "if torch.cuda.is_available():\n",
    "    gpu_memory = torch.cuda.get_device_properties(0).total_memory / (1024**3)\n",
    "    print(f\"GPU: {torch.cuda.get_device_name()}\")\n",
    "    print(f\"GPU Memory: {gpu_memory:.1f} GB\")\n",
    "else:\n",
    "    print(\"No GPU detected - using CPU (will be very slow)\")"
   ]
  },
  {
   "cell_type": "markdown",
   "id": "3a2db3ed",
   "metadata": {},
   "source": [
    "## Data Loading and Analysis"
   ]
  },
  {
   "cell_type": "code",
   "execution_count": null,
   "id": "2ed4507b",
   "metadata": {},
   "outputs": [],
   "source": [
    "dev_data_path = 'PATH_TO_ORIGINAL_DEV_DATASET'\n",
    "\n",
    "dev_df = pd.read_csv(dev_data_path)\n",
    "dev_df['instruction'] = dev_df['instruction'].str.replace(\"Exammple\", \"Example\")"
   ]
  },
  {
   "cell_type": "code",
   "execution_count": null,
   "id": "d4e60f5e",
   "metadata": {},
   "outputs": [],
   "source": [
    "pipe = pipeline(\n",
    "        \"text-generation\", \n",
    "        model=\"unsloth/Qwen2.5-Coder-14B-Instruct-bnb-4bit\",\n",
    "        trust_remote_code=True,\n",
    "        device_map=\"auto\" if torch.cuda.is_available() else None,\n",
    "        torch_dtype=torch.float16 if torch.cuda.is_available() else torch.float32,\n",
    "        model_kwargs={\n",
    "            \"load_in_4bit\": True,\n",
    "            \"low_cpu_mem_usage\": True,\n",
    "        } if torch.cuda.is_available() else {\"low_cpu_mem_usage\": True}\n",
    ")"
   ]
  },
  {
   "cell_type": "code",
   "execution_count": null,
   "id": "7bab83ac",
   "metadata": {},
   "outputs": [],
   "source": [
    "print(dev_df['instruction'][0])\n",
    "bangla_part = dev_df['instruction'][0].split(\"Example:\")[0].strip()\n",
    "example_part = dev_df['instruction'][0].split(\"Example:\")[1].strip()\n",
    "tests_part = dev_df['test_list'][0]\n",
    "print(bangla_part)\n",
    "print(example_part)\n",
    "print(tests_part)"
   ]
  },
  {
   "cell_type": "code",
   "execution_count": null,
   "id": "3c9ee4d2",
   "metadata": {},
   "outputs": [],
   "source": [
    "def translate_bangla_instruction(bangla_instruction):\n",
    "    messages = [\n",
    "        {\n",
    "            \"role\": \"system\",\n",
    "            \"content\": \"\"\"You are a professional translator specializing in technical and programming content. Your task is to translate Bangla text containing coding instructions into clear, precise English while preserving all technical meaning and context.\n",
    "\n",
    "        Translation Guidelines:\n",
    "        - Preserve Technical Accuracy: Maintain exact meaning of programming concepts\n",
    "        - Keep Code Elements Intact: Preserve English technical terms in standard form\n",
    "        - Maintain Instructional Clarity: Ensure natural English coding instructions\n",
    "        - Precision Over Literal Translation: Focus on exact intended meaning\n",
    "\n",
    "        Example:\n",
    "        Input: একটি স্ট্রিং-এ একটি আক্ষরিক স্ট্রিং অনুসন্ধান করার জন্য একটি ফাংশন লিখুন এবং রেজেক্স ব্যবহার করে মূল স্ট্রিং-এর মধ্যে অবস্থানটি খুঁজে বের করুন যেখানে প্যাটার্নটি ঘটে।\n",
    "        Output: Write a function to search for a literal string within a main string and find the position within the main string where the pattern occurs using regex.\"\"\"\n",
    "        },\n",
    "        {\n",
    "            \"role\": \"user\",\n",
    "            \"content\": f\"Translate this Bangla coding instruction to English: {bangla_instruction}\"\n",
    "        }\n",
    "    ]\n",
    "\n",
    "    result = pipe(\n",
    "        messages,\n",
    "        max_new_tokens=768,\n",
    "        temperature=0.3,\n",
    "        top_p=0.95,\n",
    "        do_sample=True,\n",
    "        return_full_text=False\n",
    "    )\n",
    "    \n",
    "    return result[0]['generated_text']"
   ]
  },
  {
   "cell_type": "code",
   "execution_count": null,
   "id": "016a7d3f",
   "metadata": {},
   "outputs": [],
   "source": [
    "# Generate responses for ALL instructions in the development set\n",
    "translated_instructions = []\n",
    "failed_ids = []\n",
    "\n",
    "print(f\"Translating {len(dev_df)} instructions...\")\n",
    "\n",
    "for idx, row in tqdm(dev_df.iterrows(), total=len(dev_df), desc=\"Translating instructions\"):\n",
    "    full_instruction = row['instruction']\n",
    "    sample_id = row['id']\n",
    "    \n",
    "    # Split the string at the first occurrence of \"Example:\"\n",
    "    parts = full_instruction.split(\"Example:\", 1)\n",
    "    bangla_instruction = parts[0].strip()\n",
    "    \n",
    "    try:\n",
    "        generated_code = translate_bangla_instruction(bangla_instruction)\n",
    "        # Reconstruct the string: translated part + \"Example:\" + rest\n",
    "        if len(parts) > 1:\n",
    "            reconstructed_string = generated_code + \" Example:\" + parts[1]\n",
    "        else:\n",
    "            reconstructed_string = generated_code\n",
    "            \n",
    "        translated_instructions.append(reconstructed_string)\n",
    "            \n",
    "    except Exception as e:\n",
    "        print(f\"\\n❌ Error processing sample {sample_id}: {e}\")\n",
    "        failed_ids.append(sample_id)\n",
    "\n",
    "print(f\"\\nTranslation complete!\")\n",
    "print(f\"Failed samples: {len(failed_ids)}\")\n",
    "\n",
    "if failed_ids:\n",
    "    print(f\"Failed IDs: {failed_ids[:10]}{'...' if len(failed_ids) > 10 else ''}\")"
   ]
  },
  {
   "cell_type": "code",
   "execution_count": null,
   "id": "2fcfccf5",
   "metadata": {},
   "outputs": [],
   "source": [
    "result_df = dev_df.copy()\n",
    "result_df['instruction'] = translated_instructions\n",
    "result_df['test_list'] = dev_df['test_list']\n",
    "result_df.to_csv('translated_instructions.csv', index=False)\n",
    "print(\"\\nNew DataFrame saved to 'translated_instructions.csv'\")"
   ]
  }
 ],
 "metadata": {
  "kernelspec": {
   "display_name": ".venv",
   "language": "python",
   "name": "python3"
  },
  "language_info": {
   "codemirror_mode": {
    "name": "ipython",
    "version": 3
   },
   "file_extension": ".py",
   "mimetype": "text/x-python",
   "name": "python",
   "nbconvert_exporter": "python",
   "pygments_lexer": "ipython3",
   "version": "3.12.11"
  }
 },
 "nbformat": 4,
 "nbformat_minor": 5
}
